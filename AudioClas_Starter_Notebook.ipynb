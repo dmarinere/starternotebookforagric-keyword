{
  "nbformat": 4,
  "nbformat_minor": 0,
  "metadata": {
    "colab": {
      "name": "AudioClas Starter Notebook.ipynb",
      "provenance": []
    },
    "kernelspec": {
      "name": "python3",
      "display_name": "Python 3"
    },
    "accelerator": "GPU",
    "widgets": {
      "application/vnd.jupyter.widget-state+json": {
        "3c0c6c6b27814c58832461b37075c93f": {
          "model_module": "@jupyter-widgets/controls",
          "model_name": "HBoxModel",
          "state": {
            "_view_name": "HBoxView",
            "_dom_classes": [],
            "_model_name": "HBoxModel",
            "_view_module": "@jupyter-widgets/controls",
            "_model_module_version": "1.5.0",
            "_view_count": null,
            "_view_module_version": "1.5.0",
            "box_style": "",
            "layout": "IPY_MODEL_3db118e245094c37b0aaa23bd8cb3b98",
            "_model_module": "@jupyter-widgets/controls",
            "children": [
              "IPY_MODEL_af719989bd634e9e9f3cdd11fd509536",
              "IPY_MODEL_1fcb169e865045b9beb662bd4aa10f61"
            ]
          }
        },
        "3db118e245094c37b0aaa23bd8cb3b98": {
          "model_module": "@jupyter-widgets/base",
          "model_name": "LayoutModel",
          "state": {
            "_view_name": "LayoutView",
            "grid_template_rows": null,
            "right": null,
            "justify_content": null,
            "_view_module": "@jupyter-widgets/base",
            "overflow": null,
            "_model_module_version": "1.2.0",
            "_view_count": null,
            "flex_flow": null,
            "width": null,
            "min_width": null,
            "border": null,
            "align_items": null,
            "bottom": null,
            "_model_module": "@jupyter-widgets/base",
            "top": null,
            "grid_column": null,
            "overflow_y": null,
            "overflow_x": null,
            "grid_auto_flow": null,
            "grid_area": null,
            "grid_template_columns": null,
            "flex": null,
            "_model_name": "LayoutModel",
            "justify_items": null,
            "grid_row": null,
            "max_height": null,
            "align_content": null,
            "visibility": null,
            "align_self": null,
            "height": null,
            "min_height": null,
            "padding": null,
            "grid_auto_rows": null,
            "grid_gap": null,
            "max_width": null,
            "order": null,
            "_view_module_version": "1.2.0",
            "grid_template_areas": null,
            "object_position": null,
            "object_fit": null,
            "grid_auto_columns": null,
            "margin": null,
            "display": null,
            "left": null
          }
        },
        "af719989bd634e9e9f3cdd11fd509536": {
          "model_module": "@jupyter-widgets/controls",
          "model_name": "FloatProgressModel",
          "state": {
            "_view_name": "ProgressView",
            "style": "IPY_MODEL_cd865428ffc24395a29446e83c8cce70",
            "_dom_classes": [],
            "description": "100%",
            "_model_name": "FloatProgressModel",
            "bar_style": "success",
            "max": 46827520,
            "_view_module": "@jupyter-widgets/controls",
            "_model_module_version": "1.5.0",
            "value": 46827520,
            "_view_count": null,
            "_view_module_version": "1.5.0",
            "orientation": "horizontal",
            "min": 0,
            "description_tooltip": null,
            "_model_module": "@jupyter-widgets/controls",
            "layout": "IPY_MODEL_aa187e8587b14d29be4310d33b3ac984"
          }
        },
        "1fcb169e865045b9beb662bd4aa10f61": {
          "model_module": "@jupyter-widgets/controls",
          "model_name": "HTMLModel",
          "state": {
            "_view_name": "HTMLView",
            "style": "IPY_MODEL_98f4663fdddb48e1ad0782403946afe2",
            "_dom_classes": [],
            "description": "",
            "_model_name": "HTMLModel",
            "placeholder": "​",
            "_view_module": "@jupyter-widgets/controls",
            "_model_module_version": "1.5.0",
            "value": " 44.7M/44.7M [35:32&lt;00:00, 22.0kB/s]",
            "_view_count": null,
            "_view_module_version": "1.5.0",
            "description_tooltip": null,
            "_model_module": "@jupyter-widgets/controls",
            "layout": "IPY_MODEL_55177b5e2df7491da99e6dcfa8358687"
          }
        },
        "cd865428ffc24395a29446e83c8cce70": {
          "model_module": "@jupyter-widgets/controls",
          "model_name": "ProgressStyleModel",
          "state": {
            "_view_name": "StyleView",
            "_model_name": "ProgressStyleModel",
            "description_width": "initial",
            "_view_module": "@jupyter-widgets/base",
            "_model_module_version": "1.5.0",
            "_view_count": null,
            "_view_module_version": "1.2.0",
            "bar_color": null,
            "_model_module": "@jupyter-widgets/controls"
          }
        },
        "aa187e8587b14d29be4310d33b3ac984": {
          "model_module": "@jupyter-widgets/base",
          "model_name": "LayoutModel",
          "state": {
            "_view_name": "LayoutView",
            "grid_template_rows": null,
            "right": null,
            "justify_content": null,
            "_view_module": "@jupyter-widgets/base",
            "overflow": null,
            "_model_module_version": "1.2.0",
            "_view_count": null,
            "flex_flow": null,
            "width": null,
            "min_width": null,
            "border": null,
            "align_items": null,
            "bottom": null,
            "_model_module": "@jupyter-widgets/base",
            "top": null,
            "grid_column": null,
            "overflow_y": null,
            "overflow_x": null,
            "grid_auto_flow": null,
            "grid_area": null,
            "grid_template_columns": null,
            "flex": null,
            "_model_name": "LayoutModel",
            "justify_items": null,
            "grid_row": null,
            "max_height": null,
            "align_content": null,
            "visibility": null,
            "align_self": null,
            "height": null,
            "min_height": null,
            "padding": null,
            "grid_auto_rows": null,
            "grid_gap": null,
            "max_width": null,
            "order": null,
            "_view_module_version": "1.2.0",
            "grid_template_areas": null,
            "object_position": null,
            "object_fit": null,
            "grid_auto_columns": null,
            "margin": null,
            "display": null,
            "left": null
          }
        },
        "98f4663fdddb48e1ad0782403946afe2": {
          "model_module": "@jupyter-widgets/controls",
          "model_name": "DescriptionStyleModel",
          "state": {
            "_view_name": "StyleView",
            "_model_name": "DescriptionStyleModel",
            "description_width": "",
            "_view_module": "@jupyter-widgets/base",
            "_model_module_version": "1.5.0",
            "_view_count": null,
            "_view_module_version": "1.2.0",
            "_model_module": "@jupyter-widgets/controls"
          }
        },
        "55177b5e2df7491da99e6dcfa8358687": {
          "model_module": "@jupyter-widgets/base",
          "model_name": "LayoutModel",
          "state": {
            "_view_name": "LayoutView",
            "grid_template_rows": null,
            "right": null,
            "justify_content": null,
            "_view_module": "@jupyter-widgets/base",
            "overflow": null,
            "_model_module_version": "1.2.0",
            "_view_count": null,
            "flex_flow": null,
            "width": null,
            "min_width": null,
            "border": null,
            "align_items": null,
            "bottom": null,
            "_model_module": "@jupyter-widgets/base",
            "top": null,
            "grid_column": null,
            "overflow_y": null,
            "overflow_x": null,
            "grid_auto_flow": null,
            "grid_area": null,
            "grid_template_columns": null,
            "flex": null,
            "_model_name": "LayoutModel",
            "justify_items": null,
            "grid_row": null,
            "max_height": null,
            "align_content": null,
            "visibility": null,
            "align_self": null,
            "height": null,
            "min_height": null,
            "padding": null,
            "grid_auto_rows": null,
            "grid_gap": null,
            "max_width": null,
            "order": null,
            "_view_module_version": "1.2.0",
            "grid_template_areas": null,
            "object_position": null,
            "object_fit": null,
            "grid_auto_columns": null,
            "margin": null,
            "display": null,
            "left": null
          }
        }
      }
    }
  },
  "cells": [
    {
      "cell_type": "markdown",
      "metadata": {
        "id": "h1O9_pchWFAx",
        "colab_type": "text"
      },
      "source": [
        "# Introduction\n",
        "\n",
        "This notebook is a quick introduction to the GIZ NLP Agricultural Keyword Spotter challenge on Zindi. We'll take a peek at the data, fit a quick (bad) model and make a submission. Let's get going!"
      ]
    },
    {
      "cell_type": "markdown",
      "metadata": {
        "id": "v4OdNCeP18-F",
        "colab_type": "text"
      },
      "source": [
        "# Getting Set Up\n",
        "\n",
        "You'll need the files from Zindi, but the actual audio files are also available via this drive link: https://drive.google.com/file/d/1IGp1lDi0RIEuE7xuhCVIxEUROuEn-Ucv/view?usp=sharing\n",
        "\n",
        "So I'd suggest uploading Train.csv and SampleSubmission.csv and then mounting your drive and copying in the files as shown here:"
      ]
    },
    {
      "cell_type": "code",
      "metadata": {
        "id": "QgLBGRGz1yq2",
        "colab_type": "code",
        "colab": {}
      },
      "source": [
        "# Copy the files in and unzip\n",
        "!cp 'drive/My Drive/audio_files.zip' audio_files.zip\n",
        "!unzip -q audio_files.zip"
      ],
      "execution_count": null,
      "outputs": []
    },
    {
      "cell_type": "code",
      "metadata": {
        "id": "4OIc8y1O2tMx",
        "colab_type": "code",
        "colab": {
          "base_uri": "https://localhost:8080/",
          "height": 51
        },
        "outputId": "9b92c6c1-1c4c-40ff-8b88-f17950cfc091"
      },
      "source": [
        "!ls # Check the other files (train and sample sub)"
      ],
      "execution_count": null,
      "outputs": [
        {
          "output_type": "stream",
          "text": [
            "audio_files\t drive\t      SampleSubmission.csv\n",
            "audio_files.zip  sample_data  Train.csv\n"
          ],
          "name": "stdout"
        }
      ]
    },
    {
      "cell_type": "markdown",
      "metadata": {
        "id": "40iWzP1A-hEk",
        "colab_type": "text"
      },
      "source": [
        "We'll also need a few libraries. Run these cells to install. You may then need to restart the runtime."
      ]
    },
    {
      "cell_type": "code",
      "metadata": {
        "id": "gthTFVb86QCe",
        "colab_type": "code",
        "colab": {
          "base_uri": "https://localhost:8080/",
          "height": 34
        },
        "outputId": "e25a85f0-7987-42c3-8c31-757a5c4f79a8"
      },
      "source": [
        "!pip install -q fastai fastcore --upgrade # Make sure we have the new version"
      ],
      "execution_count": null,
      "outputs": [
        {
          "output_type": "stream",
          "text": [
            "\u001b[?25l\r\u001b[K     |█                               | 10kB 23.1MB/s eta 0:00:01\r\u001b[K     |█▉                              | 20kB 6.8MB/s eta 0:00:01\r\u001b[K     |██▊                             | 30kB 8.3MB/s eta 0:00:01\r\u001b[K     |███▊                            | 40kB 8.9MB/s eta 0:00:01\r\u001b[K     |████▋                           | 51kB 7.2MB/s eta 0:00:01\r\u001b[K     |█████▌                          | 61kB 7.8MB/s eta 0:00:01\r\u001b[K     |██████▌                         | 71kB 8.8MB/s eta 0:00:01\r\u001b[K     |███████▍                        | 81kB 9.0MB/s eta 0:00:01\r\u001b[K     |████████▎                       | 92kB 8.4MB/s eta 0:00:01\r\u001b[K     |█████████▎                      | 102kB 8.6MB/s eta 0:00:01\r\u001b[K     |██████████▏                     | 112kB 8.6MB/s eta 0:00:01\r\u001b[K     |███████████                     | 122kB 8.6MB/s eta 0:00:01\r\u001b[K     |████████████                    | 133kB 8.6MB/s eta 0:00:01\r\u001b[K     |█████████████                   | 143kB 8.6MB/s eta 0:00:01\r\u001b[K     |█████████████▉                  | 153kB 8.6MB/s eta 0:00:01\r\u001b[K     |██████████████▉                 | 163kB 8.6MB/s eta 0:00:01\r\u001b[K     |███████████████▊                | 174kB 8.6MB/s eta 0:00:01\r\u001b[K     |████████████████▋               | 184kB 8.6MB/s eta 0:00:01\r\u001b[K     |█████████████████▋              | 194kB 8.6MB/s eta 0:00:01\r\u001b[K     |██████████████████▌             | 204kB 8.6MB/s eta 0:00:01\r\u001b[K     |███████████████████▍            | 215kB 8.6MB/s eta 0:00:01\r\u001b[K     |████████████████████▍           | 225kB 8.6MB/s eta 0:00:01\r\u001b[K     |█████████████████████▎          | 235kB 8.6MB/s eta 0:00:01\r\u001b[K     |██████████████████████▏         | 245kB 8.6MB/s eta 0:00:01\r\u001b[K     |███████████████████████▏        | 256kB 8.6MB/s eta 0:00:01\r\u001b[K     |████████████████████████        | 266kB 8.6MB/s eta 0:00:01\r\u001b[K     |█████████████████████████       | 276kB 8.6MB/s eta 0:00:01\r\u001b[K     |█████████████████████████▉      | 286kB 8.6MB/s eta 0:00:01\r\u001b[K     |██████████████████████████▉     | 296kB 8.6MB/s eta 0:00:01\r\u001b[K     |███████████████████████████▊    | 307kB 8.6MB/s eta 0:00:01\r\u001b[K     |████████████████████████████▋   | 317kB 8.6MB/s eta 0:00:01\r\u001b[K     |█████████████████████████████▋  | 327kB 8.6MB/s eta 0:00:01\r\u001b[K     |██████████████████████████████▌ | 337kB 8.6MB/s eta 0:00:01\r\u001b[K     |███████████████████████████████▍| 348kB 8.6MB/s eta 0:00:01\r\u001b[K     |████████████████████████████████| 358kB 8.6MB/s \n",
            "\u001b[?25h"
          ],
          "name": "stdout"
        }
      ]
    },
    {
      "cell_type": "code",
      "metadata": {
        "id": "t-5agYag6nPg",
        "colab_type": "code",
        "colab": {
          "base_uri": "https://localhost:8080/",
          "height": 34
        },
        "outputId": "ed612859-943c-465f-ddd7-9e7870794e2b"
      },
      "source": [
        "!pip install -q python_speech_features"
      ],
      "execution_count": null,
      "outputs": [
        {
          "output_type": "stream",
          "text": [
            "  Building wheel for python-speech-features (setup.py) ... \u001b[?25l\u001b[?25hdone\n"
          ],
          "name": "stdout"
        }
      ]
    },
    {
      "cell_type": "markdown",
      "metadata": {
        "id": "13-Wzjl220bA",
        "colab_type": "text"
      },
      "source": [
        "# First Look\n",
        "\n",
        "This is an audio classification task, and it's a hard one! Each audio file is a recording of someone saying a key word or phrase. Let's look at the train file and listen to a few random samples"
      ]
    },
    {
      "cell_type": "code",
      "metadata": {
        "id": "RBYwPyKl2x4s",
        "colab_type": "code",
        "colab": {}
      },
      "source": [
        "import pandas as pd\n",
        "import IPython.display as ipd"
      ],
      "execution_count": null,
      "outputs": []
    },
    {
      "cell_type": "code",
      "metadata": {
        "id": "WI0jHls53JSi",
        "colab_type": "code",
        "colab": {
          "base_uri": "https://localhost:8080/",
          "height": 204
        },
        "outputId": "e098a4b8-c3a8-4362-ed35-fea3f2936e81"
      },
      "source": [
        "train = pd.read_csv('Train.csv')\n",
        "train.head()"
      ],
      "execution_count": null,
      "outputs": [
        {
          "output_type": "execute_result",
          "data": {
            "text/html": [
              "<div>\n",
              "<style scoped>\n",
              "    .dataframe tbody tr th:only-of-type {\n",
              "        vertical-align: middle;\n",
              "    }\n",
              "\n",
              "    .dataframe tbody tr th {\n",
              "        vertical-align: top;\n",
              "    }\n",
              "\n",
              "    .dataframe thead th {\n",
              "        text-align: right;\n",
              "    }\n",
              "</style>\n",
              "<table border=\"1\" class=\"dataframe\">\n",
              "  <thead>\n",
              "    <tr style=\"text-align: right;\">\n",
              "      <th></th>\n",
              "      <th>fn</th>\n",
              "      <th>label</th>\n",
              "    </tr>\n",
              "  </thead>\n",
              "  <tbody>\n",
              "    <tr>\n",
              "      <th>0</th>\n",
              "      <td>audio_files/IV38R7F.wav</td>\n",
              "      <td>akawuka</td>\n",
              "    </tr>\n",
              "    <tr>\n",
              "      <th>1</th>\n",
              "      <td>audio_files/KM4SKWT.wav</td>\n",
              "      <td>banana</td>\n",
              "    </tr>\n",
              "    <tr>\n",
              "      <th>2</th>\n",
              "      <td>audio_files/F5POSU9.wav</td>\n",
              "      <td>obulwadde</td>\n",
              "    </tr>\n",
              "    <tr>\n",
              "      <th>3</th>\n",
              "      <td>audio_files/MMVDXG2.wav</td>\n",
              "      <td>nnyaanya</td>\n",
              "    </tr>\n",
              "    <tr>\n",
              "      <th>4</th>\n",
              "      <td>audio_files/9TVM96F.wav</td>\n",
              "      <td>pampu</td>\n",
              "    </tr>\n",
              "  </tbody>\n",
              "</table>\n",
              "</div>"
            ],
            "text/plain": [
              "                        fn      label\n",
              "0  audio_files/IV38R7F.wav    akawuka\n",
              "1  audio_files/KM4SKWT.wav     banana\n",
              "2  audio_files/F5POSU9.wav  obulwadde\n",
              "3  audio_files/MMVDXG2.wav   nnyaanya\n",
              "4  audio_files/9TVM96F.wav      pampu"
            ]
          },
          "metadata": {
            "tags": []
          },
          "execution_count": 8
        }
      ]
    },
    {
      "cell_type": "code",
      "metadata": {
        "id": "_uem5JVp3PIC",
        "colab_type": "code",
        "colab": {
          "base_uri": "https://localhost:8080/",
          "height": 75
        },
        "outputId": "e42ec528-df08-47c2-c1f9-6b485d693e3d"
      },
      "source": [
        "# Show a sample to listen to\n",
        "ipd.Audio(train.fn.sample().values[0])"
      ],
      "execution_count": null,
      "outputs": [
        {
          "output_type": "execute_result",
          "data": {
            "text/html": [
              "\n",
              "                <audio controls=\"controls\" >\n",
              "                    <source src=\"data:audio/x-wav;base64,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\" type=\"audio/x-wav\" />\n",
              "                    Your browser does not support the audio element.\n",
              "                </audio>\n",
              "              "
            ],
            "text/plain": [
              "<IPython.lib.display.Audio object>"
            ]
          },
          "metadata": {
            "tags": []
          },
          "execution_count": 9
        }
      ]
    },
    {
      "cell_type": "markdown",
      "metadata": {
        "id": "BOZAnIaH3jRe",
        "colab_type": "text"
      },
      "source": [
        "Our task is to predict which word is being spoken for some un-labeled recordings (the test set). To submit our predictions we much follow the submission format:"
      ]
    },
    {
      "cell_type": "code",
      "metadata": {
        "id": "JoI7ag9D3WsF",
        "colab_type": "code",
        "colab": {
          "base_uri": "https://localhost:8080/",
          "height": 287
        },
        "outputId": "bf80a5a2-387e-439c-e901-57edac60d371"
      },
      "source": [
        "ss = pd.read_csv('SampleSubmission.csv')\n",
        "ss.head()"
      ],
      "execution_count": null,
      "outputs": [
        {
          "output_type": "execute_result",
          "data": {
            "text/html": [
              "<div>\n",
              "<style scoped>\n",
              "    .dataframe tbody tr th:only-of-type {\n",
              "        vertical-align: middle;\n",
              "    }\n",
              "\n",
              "    .dataframe tbody tr th {\n",
              "        vertical-align: top;\n",
              "    }\n",
              "\n",
              "    .dataframe thead th {\n",
              "        text-align: right;\n",
              "    }\n",
              "</style>\n",
              "<table border=\"1\" class=\"dataframe\">\n",
              "  <thead>\n",
              "    <tr style=\"text-align: right;\">\n",
              "      <th></th>\n",
              "      <th>fn</th>\n",
              "      <th>maize streak virus</th>\n",
              "      <th>disease</th>\n",
              "      <th>okukkoola</th>\n",
              "      <th>muwogo</th>\n",
              "      <th>mpeke</th>\n",
              "      <th>mucungwa</th>\n",
              "      <th>greens</th>\n",
              "      <th>garden</th>\n",
              "      <th>mango</th>\n",
              "      <th>bulimi</th>\n",
              "      <th>obuwuka</th>\n",
              "      <th>ebikoola</th>\n",
              "      <th>obulimi</th>\n",
              "      <th>ebisoolisooli</th>\n",
              "      <th>kaamulali</th>\n",
              "      <th>eddagala</th>\n",
              "      <th>beans</th>\n",
              "      <th>omuyembe</th>\n",
              "      <th>leaf</th>\n",
              "      <th>kisaanyi</th>\n",
              "      <th>leaves</th>\n",
              "      <th>butterfly</th>\n",
              "      <th>okuzifuuyira</th>\n",
              "      <th>micungwa</th>\n",
              "      <th>ppaapaali</th>\n",
              "      <th>emboga</th>\n",
              "      <th>kikolo</th>\n",
              "      <th>harvest</th>\n",
              "      <th>olusuku</th>\n",
              "      <th>coffee</th>\n",
              "      <th>super grow</th>\n",
              "      <th>rice</th>\n",
              "      <th>ensujju</th>\n",
              "      <th>okulima</th>\n",
              "      <th>worm</th>\n",
              "      <th>ebbugga</th>\n",
              "      <th>onion</th>\n",
              "      <th>ensigo</th>\n",
              "      <th>plantation</th>\n",
              "      <th>...</th>\n",
              "      <th>ejjobyo</th>\n",
              "      <th>omulimi</th>\n",
              "      <th>okusimba</th>\n",
              "      <th>sweet potatoes</th>\n",
              "      <th>okufuuyira</th>\n",
              "      <th>farming instructor</th>\n",
              "      <th>nnasale beedi</th>\n",
              "      <th>passion fruit</th>\n",
              "      <th>ekitooke</th>\n",
              "      <th>ebisaanyi</th>\n",
              "      <th>ekyeya</th>\n",
              "      <th>enva endiirwa</th>\n",
              "      <th>emisiri</th>\n",
              "      <th>emiyembe</th>\n",
              "      <th>amatooke</th>\n",
              "      <th>ebiwuka</th>\n",
              "      <th>farm</th>\n",
              "      <th>ebinyebwa</th>\n",
              "      <th>amappapaali</th>\n",
              "      <th>ebimera</th>\n",
              "      <th>kassooli</th>\n",
              "      <th>harvesting</th>\n",
              "      <th>emmwanyi</th>\n",
              "      <th>akamonde</th>\n",
              "      <th>obumonde</th>\n",
              "      <th>cabbages</th>\n",
              "      <th>akasaanyi</th>\n",
              "      <th>spread</th>\n",
              "      <th>ebirime</th>\n",
              "      <th>drought</th>\n",
              "      <th>kasaanyi</th>\n",
              "      <th>suckers</th>\n",
              "      <th>insects</th>\n",
              "      <th>fertilizer</th>\n",
              "      <th>nakavundira</th>\n",
              "      <th>ekiwojjolo</th>\n",
              "      <th>akawuka</th>\n",
              "      <th>ddagala</th>\n",
              "      <th>ebiwojjolo</th>\n",
              "      <th>obutungulu</th>\n",
              "    </tr>\n",
              "  </thead>\n",
              "  <tbody>\n",
              "    <tr>\n",
              "      <th>0</th>\n",
              "      <td>audio_files/3JXQ47B.wav</td>\n",
              "      <td>0</td>\n",
              "      <td>0</td>\n",
              "      <td>0</td>\n",
              "      <td>0</td>\n",
              "      <td>0</td>\n",
              "      <td>0</td>\n",
              "      <td>0</td>\n",
              "      <td>0</td>\n",
              "      <td>0</td>\n",
              "      <td>0</td>\n",
              "      <td>0</td>\n",
              "      <td>0</td>\n",
              "      <td>0</td>\n",
              "      <td>0</td>\n",
              "      <td>0</td>\n",
              "      <td>0</td>\n",
              "      <td>0</td>\n",
              "      <td>0</td>\n",
              "      <td>0</td>\n",
              "      <td>0</td>\n",
              "      <td>0</td>\n",
              "      <td>0</td>\n",
              "      <td>0</td>\n",
              "      <td>0</td>\n",
              "      <td>0</td>\n",
              "      <td>0</td>\n",
              "      <td>0</td>\n",
              "      <td>0</td>\n",
              "      <td>0</td>\n",
              "      <td>0</td>\n",
              "      <td>0</td>\n",
              "      <td>0</td>\n",
              "      <td>0</td>\n",
              "      <td>0</td>\n",
              "      <td>0</td>\n",
              "      <td>0</td>\n",
              "      <td>0</td>\n",
              "      <td>0</td>\n",
              "      <td>0</td>\n",
              "      <td>...</td>\n",
              "      <td>0</td>\n",
              "      <td>0</td>\n",
              "      <td>0</td>\n",
              "      <td>0</td>\n",
              "      <td>0</td>\n",
              "      <td>0</td>\n",
              "      <td>0</td>\n",
              "      <td>0</td>\n",
              "      <td>0</td>\n",
              "      <td>0</td>\n",
              "      <td>0</td>\n",
              "      <td>0</td>\n",
              "      <td>0</td>\n",
              "      <td>0</td>\n",
              "      <td>0</td>\n",
              "      <td>0</td>\n",
              "      <td>0</td>\n",
              "      <td>0</td>\n",
              "      <td>0</td>\n",
              "      <td>0</td>\n",
              "      <td>0</td>\n",
              "      <td>0</td>\n",
              "      <td>0</td>\n",
              "      <td>0</td>\n",
              "      <td>0</td>\n",
              "      <td>0</td>\n",
              "      <td>0</td>\n",
              "      <td>0</td>\n",
              "      <td>0</td>\n",
              "      <td>0</td>\n",
              "      <td>0</td>\n",
              "      <td>0</td>\n",
              "      <td>0</td>\n",
              "      <td>0</td>\n",
              "      <td>0</td>\n",
              "      <td>0</td>\n",
              "      <td>0</td>\n",
              "      <td>0</td>\n",
              "      <td>0</td>\n",
              "      <td>0</td>\n",
              "    </tr>\n",
              "    <tr>\n",
              "      <th>1</th>\n",
              "      <td>audio_files/LZL66TN.wav</td>\n",
              "      <td>0</td>\n",
              "      <td>0</td>\n",
              "      <td>0</td>\n",
              "      <td>0</td>\n",
              "      <td>0</td>\n",
              "      <td>0</td>\n",
              "      <td>0</td>\n",
              "      <td>0</td>\n",
              "      <td>0</td>\n",
              "      <td>0</td>\n",
              "      <td>0</td>\n",
              "      <td>0</td>\n",
              "      <td>0</td>\n",
              "      <td>0</td>\n",
              "      <td>0</td>\n",
              "      <td>0</td>\n",
              "      <td>0</td>\n",
              "      <td>0</td>\n",
              "      <td>0</td>\n",
              "      <td>0</td>\n",
              "      <td>0</td>\n",
              "      <td>0</td>\n",
              "      <td>0</td>\n",
              "      <td>0</td>\n",
              "      <td>0</td>\n",
              "      <td>0</td>\n",
              "      <td>0</td>\n",
              "      <td>0</td>\n",
              "      <td>0</td>\n",
              "      <td>0</td>\n",
              "      <td>0</td>\n",
              "      <td>0</td>\n",
              "      <td>0</td>\n",
              "      <td>0</td>\n",
              "      <td>0</td>\n",
              "      <td>0</td>\n",
              "      <td>0</td>\n",
              "      <td>0</td>\n",
              "      <td>0</td>\n",
              "      <td>...</td>\n",
              "      <td>0</td>\n",
              "      <td>0</td>\n",
              "      <td>0</td>\n",
              "      <td>0</td>\n",
              "      <td>0</td>\n",
              "      <td>0</td>\n",
              "      <td>0</td>\n",
              "      <td>0</td>\n",
              "      <td>0</td>\n",
              "      <td>0</td>\n",
              "      <td>0</td>\n",
              "      <td>0</td>\n",
              "      <td>0</td>\n",
              "      <td>0</td>\n",
              "      <td>0</td>\n",
              "      <td>0</td>\n",
              "      <td>0</td>\n",
              "      <td>0</td>\n",
              "      <td>0</td>\n",
              "      <td>0</td>\n",
              "      <td>0</td>\n",
              "      <td>0</td>\n",
              "      <td>0</td>\n",
              "      <td>0</td>\n",
              "      <td>0</td>\n",
              "      <td>0</td>\n",
              "      <td>0</td>\n",
              "      <td>0</td>\n",
              "      <td>0</td>\n",
              "      <td>0</td>\n",
              "      <td>0</td>\n",
              "      <td>0</td>\n",
              "      <td>0</td>\n",
              "      <td>0</td>\n",
              "      <td>0</td>\n",
              "      <td>0</td>\n",
              "      <td>0</td>\n",
              "      <td>0</td>\n",
              "      <td>0</td>\n",
              "      <td>0</td>\n",
              "    </tr>\n",
              "    <tr>\n",
              "      <th>2</th>\n",
              "      <td>audio_files/GXAENJV.wav</td>\n",
              "      <td>0</td>\n",
              "      <td>0</td>\n",
              "      <td>0</td>\n",
              "      <td>0</td>\n",
              "      <td>0</td>\n",
              "      <td>0</td>\n",
              "      <td>0</td>\n",
              "      <td>0</td>\n",
              "      <td>0</td>\n",
              "      <td>0</td>\n",
              "      <td>0</td>\n",
              "      <td>0</td>\n",
              "      <td>0</td>\n",
              "      <td>0</td>\n",
              "      <td>0</td>\n",
              "      <td>0</td>\n",
              "      <td>0</td>\n",
              "      <td>0</td>\n",
              "      <td>0</td>\n",
              "      <td>0</td>\n",
              "      <td>0</td>\n",
              "      <td>0</td>\n",
              "      <td>0</td>\n",
              "      <td>0</td>\n",
              "      <td>0</td>\n",
              "      <td>0</td>\n",
              "      <td>0</td>\n",
              "      <td>0</td>\n",
              "      <td>0</td>\n",
              "      <td>0</td>\n",
              "      <td>0</td>\n",
              "      <td>0</td>\n",
              "      <td>0</td>\n",
              "      <td>0</td>\n",
              "      <td>0</td>\n",
              "      <td>0</td>\n",
              "      <td>0</td>\n",
              "      <td>0</td>\n",
              "      <td>0</td>\n",
              "      <td>...</td>\n",
              "      <td>0</td>\n",
              "      <td>0</td>\n",
              "      <td>0</td>\n",
              "      <td>0</td>\n",
              "      <td>0</td>\n",
              "      <td>0</td>\n",
              "      <td>0</td>\n",
              "      <td>0</td>\n",
              "      <td>0</td>\n",
              "      <td>0</td>\n",
              "      <td>0</td>\n",
              "      <td>0</td>\n",
              "      <td>0</td>\n",
              "      <td>0</td>\n",
              "      <td>0</td>\n",
              "      <td>0</td>\n",
              "      <td>0</td>\n",
              "      <td>0</td>\n",
              "      <td>0</td>\n",
              "      <td>0</td>\n",
              "      <td>0</td>\n",
              "      <td>0</td>\n",
              "      <td>0</td>\n",
              "      <td>0</td>\n",
              "      <td>0</td>\n",
              "      <td>0</td>\n",
              "      <td>0</td>\n",
              "      <td>0</td>\n",
              "      <td>0</td>\n",
              "      <td>0</td>\n",
              "      <td>0</td>\n",
              "      <td>0</td>\n",
              "      <td>0</td>\n",
              "      <td>0</td>\n",
              "      <td>0</td>\n",
              "      <td>0</td>\n",
              "      <td>0</td>\n",
              "      <td>0</td>\n",
              "      <td>0</td>\n",
              "      <td>0</td>\n",
              "    </tr>\n",
              "    <tr>\n",
              "      <th>3</th>\n",
              "      <td>audio_files/50XJOIJ.wav</td>\n",
              "      <td>0</td>\n",
              "      <td>0</td>\n",
              "      <td>0</td>\n",
              "      <td>0</td>\n",
              "      <td>0</td>\n",
              "      <td>0</td>\n",
              "      <td>0</td>\n",
              "      <td>0</td>\n",
              "      <td>0</td>\n",
              "      <td>0</td>\n",
              "      <td>0</td>\n",
              "      <td>0</td>\n",
              "      <td>0</td>\n",
              "      <td>0</td>\n",
              "      <td>0</td>\n",
              "      <td>0</td>\n",
              "      <td>0</td>\n",
              "      <td>0</td>\n",
              "      <td>0</td>\n",
              "      <td>0</td>\n",
              "      <td>0</td>\n",
              "      <td>0</td>\n",
              "      <td>0</td>\n",
              "      <td>0</td>\n",
              "      <td>0</td>\n",
              "      <td>0</td>\n",
              "      <td>0</td>\n",
              "      <td>0</td>\n",
              "      <td>0</td>\n",
              "      <td>0</td>\n",
              "      <td>0</td>\n",
              "      <td>0</td>\n",
              "      <td>0</td>\n",
              "      <td>0</td>\n",
              "      <td>0</td>\n",
              "      <td>0</td>\n",
              "      <td>0</td>\n",
              "      <td>0</td>\n",
              "      <td>0</td>\n",
              "      <td>...</td>\n",
              "      <td>0</td>\n",
              "      <td>0</td>\n",
              "      <td>0</td>\n",
              "      <td>0</td>\n",
              "      <td>0</td>\n",
              "      <td>0</td>\n",
              "      <td>0</td>\n",
              "      <td>0</td>\n",
              "      <td>0</td>\n",
              "      <td>0</td>\n",
              "      <td>0</td>\n",
              "      <td>0</td>\n",
              "      <td>0</td>\n",
              "      <td>0</td>\n",
              "      <td>0</td>\n",
              "      <td>0</td>\n",
              "      <td>0</td>\n",
              "      <td>0</td>\n",
              "      <td>0</td>\n",
              "      <td>0</td>\n",
              "      <td>0</td>\n",
              "      <td>0</td>\n",
              "      <td>0</td>\n",
              "      <td>0</td>\n",
              "      <td>0</td>\n",
              "      <td>0</td>\n",
              "      <td>0</td>\n",
              "      <td>0</td>\n",
              "      <td>0</td>\n",
              "      <td>0</td>\n",
              "      <td>0</td>\n",
              "      <td>0</td>\n",
              "      <td>0</td>\n",
              "      <td>0</td>\n",
              "      <td>0</td>\n",
              "      <td>0</td>\n",
              "      <td>0</td>\n",
              "      <td>0</td>\n",
              "      <td>0</td>\n",
              "      <td>0</td>\n",
              "    </tr>\n",
              "    <tr>\n",
              "      <th>4</th>\n",
              "      <td>audio_files/PT9FZXC.wav</td>\n",
              "      <td>0</td>\n",
              "      <td>0</td>\n",
              "      <td>0</td>\n",
              "      <td>0</td>\n",
              "      <td>0</td>\n",
              "      <td>0</td>\n",
              "      <td>0</td>\n",
              "      <td>0</td>\n",
              "      <td>0</td>\n",
              "      <td>0</td>\n",
              "      <td>0</td>\n",
              "      <td>0</td>\n",
              "      <td>0</td>\n",
              "      <td>0</td>\n",
              "      <td>0</td>\n",
              "      <td>0</td>\n",
              "      <td>0</td>\n",
              "      <td>0</td>\n",
              "      <td>0</td>\n",
              "      <td>0</td>\n",
              "      <td>0</td>\n",
              "      <td>0</td>\n",
              "      <td>0</td>\n",
              "      <td>0</td>\n",
              "      <td>0</td>\n",
              "      <td>0</td>\n",
              "      <td>0</td>\n",
              "      <td>0</td>\n",
              "      <td>0</td>\n",
              "      <td>0</td>\n",
              "      <td>0</td>\n",
              "      <td>0</td>\n",
              "      <td>0</td>\n",
              "      <td>0</td>\n",
              "      <td>0</td>\n",
              "      <td>0</td>\n",
              "      <td>0</td>\n",
              "      <td>0</td>\n",
              "      <td>0</td>\n",
              "      <td>...</td>\n",
              "      <td>0</td>\n",
              "      <td>0</td>\n",
              "      <td>0</td>\n",
              "      <td>0</td>\n",
              "      <td>0</td>\n",
              "      <td>0</td>\n",
              "      <td>0</td>\n",
              "      <td>0</td>\n",
              "      <td>0</td>\n",
              "      <td>0</td>\n",
              "      <td>0</td>\n",
              "      <td>0</td>\n",
              "      <td>0</td>\n",
              "      <td>0</td>\n",
              "      <td>0</td>\n",
              "      <td>0</td>\n",
              "      <td>0</td>\n",
              "      <td>0</td>\n",
              "      <td>0</td>\n",
              "      <td>0</td>\n",
              "      <td>0</td>\n",
              "      <td>0</td>\n",
              "      <td>0</td>\n",
              "      <td>0</td>\n",
              "      <td>0</td>\n",
              "      <td>0</td>\n",
              "      <td>0</td>\n",
              "      <td>0</td>\n",
              "      <td>0</td>\n",
              "      <td>0</td>\n",
              "      <td>0</td>\n",
              "      <td>0</td>\n",
              "      <td>0</td>\n",
              "      <td>0</td>\n",
              "      <td>0</td>\n",
              "      <td>0</td>\n",
              "      <td>0</td>\n",
              "      <td>0</td>\n",
              "      <td>0</td>\n",
              "      <td>0</td>\n",
              "    </tr>\n",
              "  </tbody>\n",
              "</table>\n",
              "<p>5 rows × 194 columns</p>\n",
              "</div>"
            ],
            "text/plain": [
              "                        fn  maize streak virus  ...  ebiwojjolo  obutungulu\n",
              "0  audio_files/3JXQ47B.wav                   0  ...           0           0\n",
              "1  audio_files/LZL66TN.wav                   0  ...           0           0\n",
              "2  audio_files/GXAENJV.wav                   0  ...           0           0\n",
              "3  audio_files/50XJOIJ.wav                   0  ...           0           0\n",
              "4  audio_files/PT9FZXC.wav                   0  ...           0           0\n",
              "\n",
              "[5 rows x 194 columns]"
            ]
          },
          "metadata": {
            "tags": []
          },
          "execution_count": 10
        }
      ]
    },
    {
      "cell_type": "markdown",
      "metadata": {
        "id": "qf75N2a031N3",
        "colab_type": "text"
      },
      "source": [
        "For each file we must submit probabilities - how likely we think it is that each keyword is the one being spoken in the audio file. Now, this sounds pretty easy (speech recognition has been around for a while) but what makes this harder is the dataset size - a constraint that is often encountered when dealing with languages other than English. The recordings are also fairly low quality. Let's see how many training examples we have for each word:"
      ]
    },
    {
      "cell_type": "code",
      "metadata": {
        "id": "ZxDJR90G4H_-",
        "colab_type": "code",
        "colab": {
          "base_uri": "https://localhost:8080/",
          "height": 282
        },
        "outputId": "f2154bfa-bd58-4bc5-a976-6d74149b2afc"
      },
      "source": [
        "# Plot a histogram showing how common different counts are\n",
        "train.groupby('label').count()['fn'].plot(kind='hist')"
      ],
      "execution_count": null,
      "outputs": [
        {
          "output_type": "execute_result",
          "data": {
            "text/plain": [
              "<matplotlib.axes._subplots.AxesSubplot at 0x7ffbd73b6f28>"
            ]
          },
          "metadata": {
            "tags": []
          },
          "execution_count": 11
        },
        {
          "output_type": "display_data",
          "data": {
            "image/png": "[encoded data removed]",
            "text/plain": [
              "<Figure size 432x288 with 1 Axes>"
            ]
          },
          "metadata": {
            "tags": [],
            "needs_background": "light"
          }
        }
      ]
    },
    {
      "cell_type": "code",
      "metadata": {
        "id": "wfuPz3qDB4AY",
        "colab_type": "code",
        "colab": {
          "base_uri": "https://localhost:8080/",
          "height": 34
        },
        "outputId": "633f328b-667d-4aac-9ec6-3bb131ebbf96"
      },
      "source": [
        "train.groupby('label').count()['fn'].min()"
      ],
      "execution_count": null,
      "outputs": [
        {
          "output_type": "execute_result",
          "data": {
            "text/plain": [
              "3"
            ]
          },
          "metadata": {
            "tags": []
          },
          "execution_count": 12
        }
      ]
    },
    {
      "cell_type": "markdown",
      "metadata": {
        "id": "ASdR98n54olR",
        "colab_type": "text"
      },
      "source": [
        "You can see that for many words we only have 3 or 4 training examples! And even the most common words only have 10 or 12 examples. Now, this will change: as the competition progresses we're hoping to get a bit more data from the project. But even so, your solution will need to get creative in terms of how you deal with this constraint."
      ]
    },
    {
      "cell_type": "markdown",
      "metadata": {
        "id": "jcDdmz3f5PWd",
        "colab_type": "text"
      },
      "source": [
        "# Where do we begin?\n",
        "\n",
        "So how do we even think about approaching this sort of challenge? There are a few ways - here we'll show one of the most popular. We'll convert the audio files into a 2D image called a spectrogram, which shows the sound intensity at different frequencies over time. We'll use these image representations as the inputs to a neural network. This approach doesn't do very well out of the box here, but hopefully it's enough to get you thinking of better ideas!\n",
        "\n",
        "To help us with this we'll use a few useful libraries:\n",
        "- fastai to give us a powerful framework for deep learning\n",
        "- librosa for audio processing\n",
        "\n",
        "Let's start by making a function to turn an audio file into an image:"
      ]
    },
    {
      "cell_type": "code",
      "metadata": {
        "id": "lePlpOHW6A-z",
        "colab_type": "code",
        "colab": {}
      },
      "source": [
        "import librosa\n",
        "import python_speech_features as psf\n",
        "from matplotlib import pyplot as plt\n",
        "import numpy as np"
      ],
      "execution_count": null,
      "outputs": []
    },
    {
      "cell_type": "code",
      "metadata": {
        "id": "4Ft8HqmB41lU",
        "colab_type": "code",
        "colab": {
          "base_uri": "https://localhost:8080/",
          "height": 286
        },
        "outputId": "ab311c87-aa99-4d4e-e075-53635920a9b1"
      },
      "source": [
        "def im_from_audio(fn, sample_rate=44100, window_length=0.05, window_step=0.0045, NFFT=2205):\n",
        "  \n",
        "  # Load the audio into an array (signal) at the specified sample rate\n",
        "  signal, sr = librosa.load(fn, sr=sample_rate)\n",
        "\n",
        "  # preemphasis\n",
        "  signal = psf.sigproc.preemphasis(signal, coeff=0.95)\n",
        "\n",
        "  # get specrogram\n",
        "  # Get the frames\n",
        "  frames = psf.sigproc.framesig(signal, \n",
        "                                  window_length*sample_rate, \n",
        "                                  window_step*sample_rate, \n",
        "                                  lambda x:np.ones((x,)))        # Window function \n",
        "    \n",
        "  # magnitude Spectrogram\n",
        "  spectrogram = np.rot90(psf.sigproc.magspec(frames, NFFT))\n",
        "  \n",
        "  # get rid of high frequencies\n",
        "  spectrogram = spectrogram[512:,:]\n",
        "\n",
        "  # normalize in [0, 1]\n",
        "  spectrogram -= spectrogram.min(axis=None)\n",
        "  spectrogram /= spectrogram.max(axis=None)        \n",
        "\n",
        "  # Clip to max 512, 512\n",
        "  spectrogram = spectrogram[:512, :512]\n",
        "  \n",
        "  return spectrogram \n",
        "\n",
        "# View the resultant image\n",
        "plt.imshow(im_from_audio(train.fn.sample().values[0]))"
      ],
      "execution_count": null,
      "outputs": [
        {
          "output_type": "execute_result",
          "data": {
            "text/plain": [
              "<matplotlib.image.AxesImage at 0x7ffbbd391d30>"
            ]
          },
          "metadata": {
            "tags": []
          },
          "execution_count": 15
        },
        {
          "output_type": "display_data",
          "data": {
            "image/png": "[encoded data removed]",
            "text/plain": [
              "<Figure size 432x288 with 1 Axes>"
            ]
          },
          "metadata": {
            "tags": [],
            "needs_background": "light"
          }
        }
      ]
    },
    {
      "cell_type": "code",
      "metadata": {
        "id": "LKN42JQs7EuM",
        "colab_type": "code",
        "colab": {
          "base_uri": "https://localhost:8080/",
          "height": 34
        },
        "outputId": "00c5e37e-deab-4d3c-bd42-ea5df449bcd6"
      },
      "source": [
        "# Check the shape. For some, we may need to pad to make the full 512 width\n",
        "im_from_audio(train.fn.sample().values[0]).shape"
      ],
      "execution_count": null,
      "outputs": [
        {
          "output_type": "execute_result",
          "data": {
            "text/plain": [
              "(512, 512)"
            ]
          },
          "metadata": {
            "tags": []
          },
          "execution_count": 16
        }
      ]
    },
    {
      "cell_type": "markdown",
      "metadata": {
        "id": "Dj0hrm328b57",
        "colab_type": "text"
      },
      "source": [
        "# Feeding this into fastai\n",
        "\n",
        "You could save these spectrograms as images and use a library of your choice. But with fastai v2 we can use the datablock API to make a custom data loader that will read the audio file, create the spectrograms and prepare that for training:"
      ]
    },
    {
      "cell_type": "code",
      "metadata": {
        "id": "eo4GmJIt77oA",
        "colab_type": "code",
        "colab": {
          "base_uri": "https://localhost:8080/",
          "height": 536
        },
        "outputId": "67691620-a02e-4d20-c3f6-0e40da3e5fcc"
      },
      "source": [
        "from fastai.vision.all import *\n",
        "\n",
        "def get_x(fn):\n",
        "\n",
        "  # Use our function from earlier\n",
        "  spectrogram = im_from_audio(fn) # a 2D array\n",
        "\n",
        "  # Pad to make sure it is 512 x 512\n",
        "  w, h = spectrogram.shape\n",
        "  spectrogram = np.pad(spectrogram, [(0, 512-w), (0, 512-h)])\n",
        "\n",
        "   # Scale to (0, 255)\n",
        "  spectrogram  -= spectrogram.min()\n",
        "  spectrogram *= 255.0/spectrogram.max()\n",
        "\n",
        "  # Make it uint8\n",
        "  im_arr = np.array(spectrogram, np.uint8)\n",
        "\n",
        "  # Make it rgb (hint - some fun tricks you can do here!)\n",
        "  r = im_arr\n",
        "  g = im_arr\n",
        "  b = im_arr\n",
        "\n",
        "  return np.stack([r, g, b], axis=-1)\n",
        "\n",
        "def get_y(fn):\n",
        "  return train.loc[train.fn == fn].label.values[0]\n",
        "\n",
        "def get_fns(_):\n",
        "  return train['fn']\n",
        "\n",
        "# And build the datablock\n",
        "dblock = DataBlock(\n",
        "    blocks=(ImageBlock, CategoryBlock),\n",
        "    get_items=get_fns,\n",
        "    get_x=get_x,\n",
        "    get_y=get_y, \n",
        "    splitter=RandomSplitter(valid_pct=0.1),\n",
        "    batch_tfms=aug_transforms(do_flip=False, p_affine=0, size=224) # Augment with lighting changes but NOT flips or warps\n",
        ")\n",
        "dls = dblock.dataloaders(Path(''), bs=32)\n",
        "dls.show_batch()"
      ],
      "execution_count": null,
      "outputs": [
        {
          "output_type": "display_data",
          "data": {
            "image/png": "[encoded data removed]",
            "text/plain": [
              "<Figure size 648x648 with 9 Axes>"
            ]
          },
          "metadata": {
            "tags": [],
            "needs_background": "light"
          }
        }
      ]
    },
    {
      "cell_type": "markdown",
      "metadata": {
        "id": "VuP02m9V-8uz",
        "colab_type": "text"
      },
      "source": [
        "Look at that! Inputs and the associated outputs, a 10% validation set, resizing to a smaller size (224px) to speed up modelling... we're ready to train!"
      ]
    },
    {
      "cell_type": "code",
      "metadata": {
        "id": "RppC5vvc9zjl",
        "colab_type": "code",
        "colab": {
          "base_uri": "https://localhost:8080/",
          "height": 271,
          "referenced_widgets": [
            "3c0c6c6b27814c58832461b37075c93f",
            "3db118e245094c37b0aaa23bd8cb3b98",
            "af719989bd634e9e9f3cdd11fd509536",
            "1fcb169e865045b9beb662bd4aa10f61",
            "cd865428ffc24395a29446e83c8cce70",
            "aa187e8587b14d29be4310d33b3ac984",
            "98f4663fdddb48e1ad0782403946afe2",
            "55177b5e2df7491da99e6dcfa8358687"
          ]
        },
        "outputId": "0f8134c2-0981-40fb-d1f9-bc5cefad1732"
      },
      "source": [
        "learn = cnn_learner(dls, resnet18, metrics=[accuracy, top_k_accuracy])\n",
        "learn.fine_tune(3)"
      ],
      "execution_count": null,
      "outputs": [
        {
          "output_type": "stream",
          "text": [
            "Downloading: \"https://download.pytorch.org/models/resnet18-5c106cde.pth\" to /root/.cache/torch/hub/checkpoints/resnet18-5c106cde.pth\n"
          ],
          "name": "stderr"
        },
        {
          "output_type": "display_data",
          "data": {
            "application/vnd.jupyter.widget-view+json": {
              "model_id": "3c0c6c6b27814c58832461b37075c93f",
              "version_minor": 0,
              "version_major": 2
            },
            "text/plain": [
              "HBox(children=(FloatProgress(value=0.0, max=46827520.0), HTML(value='')))"
            ]
          },
          "metadata": {
            "tags": []
          }
        },
        {
          "output_type": "stream",
          "text": [
            "\n"
          ],
          "name": "stdout"
        },
        {
          "output_type": "display_data",
          "data": {
            "text/html": [
              "<table border=\"1\" class=\"dataframe\">\n",
              "  <thead>\n",
              "    <tr style=\"text-align: left;\">\n",
              "      <th>epoch</th>\n",
              "      <th>train_loss</th>\n",
              "      <th>valid_loss</th>\n",
              "      <th>accuracy</th>\n",
              "      <th>top_k_accuracy</th>\n",
              "      <th>time</th>\n",
              "    </tr>\n",
              "  </thead>\n",
              "  <tbody>\n",
              "    <tr>\n",
              "      <td>0</td>\n",
              "      <td>6.843489</td>\n",
              "      <td>5.990642</td>\n",
              "      <td>0.018182</td>\n",
              "      <td>0.063636</td>\n",
              "      <td>07:24</td>\n",
              "    </tr>\n",
              "  </tbody>\n",
              "</table>"
            ],
            "text/plain": [
              "<IPython.core.display.HTML object>"
            ]
          },
          "metadata": {
            "tags": []
          }
        },
        {
          "output_type": "display_data",
          "data": {
            "text/html": [
              "<table border=\"1\" class=\"dataframe\">\n",
              "  <thead>\n",
              "    <tr style=\"text-align: left;\">\n",
              "      <th>epoch</th>\n",
              "      <th>train_loss</th>\n",
              "      <th>valid_loss</th>\n",
              "      <th>accuracy</th>\n",
              "      <th>top_k_accuracy</th>\n",
              "      <th>time</th>\n",
              "    </tr>\n",
              "  </thead>\n",
              "  <tbody>\n",
              "    <tr>\n",
              "      <td>0</td>\n",
              "      <td>5.510451</td>\n",
              "      <td>5.805666</td>\n",
              "      <td>0.009091</td>\n",
              "      <td>0.054545</td>\n",
              "      <td>07:13</td>\n",
              "    </tr>\n",
              "    <tr>\n",
              "      <td>1</td>\n",
              "      <td>4.880260</td>\n",
              "      <td>5.341318</td>\n",
              "      <td>0.000000</td>\n",
              "      <td>0.109091</td>\n",
              "      <td>07:16</td>\n",
              "    </tr>\n",
              "    <tr>\n",
              "      <td>2</td>\n",
              "      <td>4.095632</td>\n",
              "      <td>5.138071</td>\n",
              "      <td>0.018182</td>\n",
              "      <td>0.090909</td>\n",
              "      <td>07:12</td>\n",
              "    </tr>\n",
              "  </tbody>\n",
              "</table>"
            ],
            "text/plain": [
              "<IPython.core.display.HTML object>"
            ]
          },
          "metadata": {
            "tags": []
          }
        }
      ]
    },
    {
      "cell_type": "markdown",
      "metadata": {
        "id": "7rADtGxZCtah",
        "colab_type": "text"
      },
      "source": [
        "# Saving Our Predictions"
      ]
    },
    {
      "cell_type": "code",
      "metadata": {
        "id": "xJCoHyaW_yV_",
        "colab_type": "code",
        "colab": {
          "base_uri": "https://localhost:8080/",
          "height": 646
        },
        "outputId": "35320a72-3458-4c54-ad1d-6aa91da6be8d"
      },
      "source": [
        "tdl = learn.dls.test_dl(ss['fn'].values, order=True) # Create a test dataloader\n",
        "test_preds, test_labels = learn.get_preds(dl=tdl) # Make the predictions\n",
        "test_preds[0] # Look at an example"
      ],
      "execution_count": null,
      "outputs": [
        {
          "output_type": "display_data",
          "data": {
            "text/html": [
              ""
            ],
            "text/plain": [
              "<IPython.core.display.HTML object>"
            ]
          },
          "metadata": {
            "tags": []
          }
        },
        {
          "output_type": "stream",
          "text": [
            "/usr/local/lib/python3.6/dist-packages/ipykernel_launcher.py:14: RuntimeWarning: divide by zero encountered in double_scalars\n",
            "  \n",
            "/usr/local/lib/python3.6/dist-packages/ipykernel_launcher.py:14: RuntimeWarning: invalid value encountered in multiply\n",
            "  \n"
          ],
          "name": "stderr"
        },
        {
          "output_type": "execute_result",
          "data": {
            "text/plain": [
              "tensor([3.7538e-04, 7.5930e-04, 6.4214e-03, 9.3427e-03, 9.2235e-04, 1.0804e-02,\n",
              "        1.2394e-01, 1.3164e-02, 6.6713e-03, 3.6960e-03, 1.5115e-03, 7.2330e-03,\n",
              "        5.2649e-03, 1.3372e-03, 2.2795e-02, 1.1583e-03, 1.9348e-03, 1.5625e-03,\n",
              "        6.2381e-03, 1.2869e-03, 1.8653e-03, 7.9290e-04, 6.3220e-04, 5.4350e-03,\n",
              "        5.3266e-03, 2.7968e-03, 1.1879e-03, 1.3999e-03, 9.5770e-04, 1.8891e-02,\n",
              "        9.9556e-04, 3.4930e-03, 6.2191e-04, 2.5499e-03, 5.0858e-04, 1.0702e-02,\n",
              "        2.2370e-03, 1.0988e-03, 3.4478e-03, 1.1570e-03, 1.4600e-03, 1.2366e-02,\n",
              "        1.3237e-02, 7.3808e-04, 1.3012e-03, 1.2946e-03, 1.0009e-02, 9.8178e-03,\n",
              "        3.5515e-04, 7.7643e-03, 3.2576e-04, 2.6779e-04, 9.9055e-03, 2.5768e-03,\n",
              "        2.4470e-03, 1.4875e-03, 6.1466e-03, 7.2388e-03, 3.6685e-04, 1.2602e-03,\n",
              "        4.3043e-04, 6.9378e-03, 5.2510e-03, 8.0671e-04, 8.8616e-04, 3.0744e-03,\n",
              "        2.1622e-03, 3.0527e-02, 1.4866e-03, 1.6241e-03, 3.7093e-04, 1.3904e-02,\n",
              "        7.4084e-03, 1.7867e-03, 8.4873e-04, 2.3531e-03, 7.9923e-03, 7.5343e-04,\n",
              "        5.3282e-03, 1.4225e-04, 4.6297e-03, 9.2371e-05, 2.0150e-03, 7.6133e-03,\n",
              "        2.6172e-03, 1.4774e-02, 1.7833e-03, 5.4923e-04, 2.1145e-03, 2.0815e-03,\n",
              "        3.2229e-04, 8.9310e-04, 1.9649e-03, 2.9759e-03, 6.5193e-04, 4.1720e-03,\n",
              "        2.4979e-04, 1.2640e-03, 3.6028e-04, 9.8638e-04, 1.1185e-02, 9.6035e-03,\n",
              "        3.6089e-03, 3.1115e-03, 9.8497e-03, 4.5495e-03, 4.8635e-03, 5.2933e-04,\n",
              "        5.9311e-03, 9.0330e-04, 1.0148e-02, 2.3592e-03, 1.6350e-03, 4.2245e-03,\n",
              "        2.9379e-03, 3.9399e-03, 2.2950e-03, 6.6885e-03, 5.4284e-03, 1.2302e-03,\n",
              "        5.9692e-03, 6.2570e-04, 1.5940e-03, 5.0751e-03, 5.0241e-03, 1.0620e-03,\n",
              "        1.5282e-02, 1.4820e-02, 2.1719e-03, 9.7778e-03, 3.7296e-03, 8.9911e-04,\n",
              "        7.8676e-03, 3.9044e-03, 1.6338e-03, 2.5157e-02, 6.8445e-03, 1.6251e-03,\n",
              "        8.8486e-04, 2.7504e-04, 3.0462e-04, 1.8799e-03, 1.1804e-02, 6.5234e-03,\n",
              "        8.1731e-04, 1.3490e-04, 1.1782e-03, 3.8820e-02, 3.1783e-02, 7.4044e-05,\n",
              "        9.9634e-03, 1.1796e-03, 1.3749e-03, 1.1810e-03, 1.2161e-03, 3.9714e-04,\n",
              "        3.6882e-03, 7.3613e-04, 7.0274e-04, 4.4220e-03, 4.7173e-03, 6.3607e-03,\n",
              "        1.4319e-03, 1.6970e-04, 2.8683e-03, 2.2181e-03, 2.4021e-02, 3.8813e-03,\n",
              "        1.4087e-02, 1.7819e-02, 1.2812e-02, 4.7062e-03, 1.7617e-03, 5.4301e-04,\n",
              "        6.4292e-04, 2.9464e-03, 4.5198e-04, 1.9076e-03, 1.8881e-03, 1.8358e-03,\n",
              "        1.9569e-03, 1.1295e-03, 2.0315e-03, 5.2904e-03, 3.3374e-03, 2.6451e-03,\n",
              "        8.7854e-05, 8.3274e-03, 7.8844e-03, 9.0992e-04, 1.1969e-03, 2.5444e-04,\n",
              "        1.3855e-03])"
            ]
          },
          "metadata": {
            "tags": []
          },
          "execution_count": 19
        }
      ]
    },
    {
      "cell_type": "code",
      "metadata": {
        "id": "MdFaLryNMgy1",
        "colab_type": "code",
        "colab": {
          "base_uri": "https://localhost:8080/",
          "height": 34
        },
        "outputId": "9a4e51dc-5887-42cd-8f78-46fe47407f8d"
      },
      "source": [
        "dls.vocab # The class names"
      ],
      "execution_count": null,
      "outputs": [
        {
          "output_type": "execute_result",
          "data": {
            "text/plain": [
              "(#193) ['Pump','Spinach','abalimi','afukirira','agriculture','akammwanyi','akamonde','akasaanyi','akatunda','akatungulu'...]"
            ]
          },
          "metadata": {
            "tags": []
          },
          "execution_count": 20
        }
      ]
    },
    {
      "cell_type": "code",
      "metadata": {
        "id": "5uiDlxzpNSCG",
        "colab_type": "code",
        "colab": {
          "base_uri": "https://localhost:8080/",
          "height": 287
        },
        "outputId": "95befd1f-8ff1-46c1-d3f2-8a290efce903"
      },
      "source": [
        "# Save the predictions in the required format\n",
        "for i, label in enumerate(dls.vocab):\n",
        "  ss[label] = [t[i].numpy() for t in test_preds]\n",
        "ss.head()"
      ],
      "execution_count": null,
      "outputs": [
        {
          "output_type": "execute_result",
          "data": {
            "text/html": [
              "<div>\n",
              "<style scoped>\n",
              "    .dataframe tbody tr th:only-of-type {\n",
              "        vertical-align: middle;\n",
              "    }\n",
              "\n",
              "    .dataframe tbody tr th {\n",
              "        vertical-align: top;\n",
              "    }\n",
              "\n",
              "    .dataframe thead th {\n",
              "        text-align: right;\n",
              "    }\n",
              "</style>\n",
              "<table border=\"1\" class=\"dataframe\">\n",
              "  <thead>\n",
              "    <tr style=\"text-align: right;\">\n",
              "      <th></th>\n",
              "      <th>fn</th>\n",
              "      <th>maize streak virus</th>\n",
              "      <th>disease</th>\n",
              "      <th>okukkoola</th>\n",
              "      <th>muwogo</th>\n",
              "      <th>mpeke</th>\n",
              "      <th>mucungwa</th>\n",
              "      <th>greens</th>\n",
              "      <th>garden</th>\n",
              "      <th>mango</th>\n",
              "      <th>bulimi</th>\n",
              "      <th>obuwuka</th>\n",
              "      <th>ebikoola</th>\n",
              "      <th>obulimi</th>\n",
              "      <th>ebisoolisooli</th>\n",
              "      <th>kaamulali</th>\n",
              "      <th>eddagala</th>\n",
              "      <th>beans</th>\n",
              "      <th>omuyembe</th>\n",
              "      <th>leaf</th>\n",
              "      <th>kisaanyi</th>\n",
              "      <th>leaves</th>\n",
              "      <th>butterfly</th>\n",
              "      <th>okuzifuuyira</th>\n",
              "      <th>micungwa</th>\n",
              "      <th>ppaapaali</th>\n",
              "      <th>emboga</th>\n",
              "      <th>kikolo</th>\n",
              "      <th>harvest</th>\n",
              "      <th>olusuku</th>\n",
              "      <th>coffee</th>\n",
              "      <th>super grow</th>\n",
              "      <th>rice</th>\n",
              "      <th>ensujju</th>\n",
              "      <th>okulima</th>\n",
              "      <th>worm</th>\n",
              "      <th>ebbugga</th>\n",
              "      <th>onion</th>\n",
              "      <th>ensigo</th>\n",
              "      <th>plantation</th>\n",
              "      <th>...</th>\n",
              "      <th>ejjobyo</th>\n",
              "      <th>omulimi</th>\n",
              "      <th>okusimba</th>\n",
              "      <th>sweet potatoes</th>\n",
              "      <th>okufuuyira</th>\n",
              "      <th>farming instructor</th>\n",
              "      <th>nnasale beedi</th>\n",
              "      <th>passion fruit</th>\n",
              "      <th>ekitooke</th>\n",
              "      <th>ebisaanyi</th>\n",
              "      <th>ekyeya</th>\n",
              "      <th>enva endiirwa</th>\n",
              "      <th>emisiri</th>\n",
              "      <th>emiyembe</th>\n",
              "      <th>amatooke</th>\n",
              "      <th>ebiwuka</th>\n",
              "      <th>farm</th>\n",
              "      <th>ebinyebwa</th>\n",
              "      <th>amappapaali</th>\n",
              "      <th>ebimera</th>\n",
              "      <th>kassooli</th>\n",
              "      <th>harvesting</th>\n",
              "      <th>emmwanyi</th>\n",
              "      <th>akamonde</th>\n",
              "      <th>obumonde</th>\n",
              "      <th>cabbages</th>\n",
              "      <th>akasaanyi</th>\n",
              "      <th>spread</th>\n",
              "      <th>ebirime</th>\n",
              "      <th>drought</th>\n",
              "      <th>kasaanyi</th>\n",
              "      <th>suckers</th>\n",
              "      <th>insects</th>\n",
              "      <th>fertilizer</th>\n",
              "      <th>nakavundira</th>\n",
              "      <th>ekiwojjolo</th>\n",
              "      <th>akawuka</th>\n",
              "      <th>ddagala</th>\n",
              "      <th>ebiwojjolo</th>\n",
              "      <th>obutungulu</th>\n",
              "    </tr>\n",
              "  </thead>\n",
              "  <tbody>\n",
              "    <tr>\n",
              "      <th>0</th>\n",
              "      <td>audio_files/3JXQ47B.wav</td>\n",
              "      <td>0.0039398954</td>\n",
              "      <td>0.018890545</td>\n",
              "      <td>0.009963353</td>\n",
              "      <td>0.0021718796</td>\n",
              "      <td>0.0050750603</td>\n",
              "      <td>0.0010620351</td>\n",
              "      <td>0.00065193494</td>\n",
              "      <td>0.0029758709</td>\n",
              "      <td>0.002295024</td>\n",
              "      <td>0.0012869244</td>\n",
              "      <td>0.001178237</td>\n",
              "      <td>0.0014599684</td>\n",
              "      <td>0.0003046218</td>\n",
              "      <td>0.010008584</td>\n",
              "      <td>0.0036088796</td>\n",
              "      <td>0.00026779456</td>\n",
              "      <td>0.0015624757</td>\n",
              "      <td>0.024021465</td>\n",
              "      <td>0.000903303</td>\n",
              "      <td>0.0005293321</td>\n",
              "      <td>0.010148062</td>\n",
              "      <td>0.0018652758</td>\n",
              "      <td>0.0044220123</td>\n",
              "      <td>0.0015940497</td>\n",
              "      <td>0.0029463582</td>\n",
              "      <td>0.03052712</td>\n",
              "      <td>0.0048635365</td>\n",
              "      <td>0.00024978997</td>\n",
              "      <td>0.004717259</td>\n",
              "      <td>0.0027967833</td>\n",
              "      <td>8.785418e-05</td>\n",
              "      <td>0.0019076039</td>\n",
              "      <td>9.237074e-05</td>\n",
              "      <td>0.0013748948</td>\n",
              "      <td>0.0013854695</td>\n",
              "      <td>0.0006219131</td>\n",
              "      <td>0.0038813015</td>\n",
              "      <td>0.00014224922</td>\n",
              "      <td>0.0006429248</td>\n",
              "      <td>...</td>\n",
              "      <td>0.0025767805</td>\n",
              "      <td>0.00016969783</td>\n",
              "      <td>0.000702738</td>\n",
              "      <td>0.008327434</td>\n",
              "      <td>0.03178277</td>\n",
              "      <td>0.002081479</td>\n",
              "      <td>0.025157396</td>\n",
              "      <td>0.012812346</td>\n",
              "      <td>0.0008861577</td>\n",
              "      <td>0.0013012122</td>\n",
              "      <td>0.0021622179</td>\n",
              "      <td>0.0026172292</td>\n",
              "      <td>0.0016240794</td>\n",
              "      <td>0.00037093402</td>\n",
              "      <td>0.001158344</td>\n",
              "      <td>0.0077643227</td>\n",
              "      <td>0.00054922886</td>\n",
              "      <td>0.013236743</td>\n",
              "      <td>0.022795007</td>\n",
              "      <td>0.012366314</td>\n",
              "      <td>0.009849681</td>\n",
              "      <td>0.001263983</td>\n",
              "      <td>0.013903698</td>\n",
              "      <td>0.12394173</td>\n",
              "      <td>0.011804331</td>\n",
              "      <td>0.00079289643</td>\n",
              "      <td>0.013163691</td>\n",
              "      <td>0.0020315382</td>\n",
              "      <td>0.0007380778</td>\n",
              "      <td>0.0034930385</td>\n",
              "      <td>0.0031115175</td>\n",
              "      <td>0.0052904333</td>\n",
              "      <td>0.0009863818</td>\n",
              "      <td>0.0003222915</td>\n",
              "      <td>0.009777808</td>\n",
              "      <td>0.0030743582</td>\n",
              "      <td>0.0015115414</td>\n",
              "      <td>0.0013998551</td>\n",
              "      <td>0.00035514738</td>\n",
              "      <td>0.00013489995</td>\n",
              "    </tr>\n",
              "    <tr>\n",
              "      <th>1</th>\n",
              "      <td>audio_files/LZL66TN.wav</td>\n",
              "      <td>0.0026722667</td>\n",
              "      <td>0.00028799177</td>\n",
              "      <td>0.0008647308</td>\n",
              "      <td>0.0029599867</td>\n",
              "      <td>0.0007606505</td>\n",
              "      <td>0.0012773789</td>\n",
              "      <td>0.016164238</td>\n",
              "      <td>0.004033798</td>\n",
              "      <td>0.02673647</td>\n",
              "      <td>0.00049336377</td>\n",
              "      <td>0.041096337</td>\n",
              "      <td>0.0011814663</td>\n",
              "      <td>0.002970887</td>\n",
              "      <td>0.00039071133</td>\n",
              "      <td>0.003145008</td>\n",
              "      <td>0.004222295</td>\n",
              "      <td>0.001388899</td>\n",
              "      <td>0.0054110247</td>\n",
              "      <td>0.005373046</td>\n",
              "      <td>0.0011029319</td>\n",
              "      <td>0.0002796697</td>\n",
              "      <td>0.0068766787</td>\n",
              "      <td>0.0012469153</td>\n",
              "      <td>0.0017633798</td>\n",
              "      <td>0.000959785</td>\n",
              "      <td>0.00080226205</td>\n",
              "      <td>0.003885555</td>\n",
              "      <td>0.0041122944</td>\n",
              "      <td>0.0004485707</td>\n",
              "      <td>0.0335314</td>\n",
              "      <td>0.0012249687</td>\n",
              "      <td>0.0030840104</td>\n",
              "      <td>0.005027674</td>\n",
              "      <td>0.00061645015</td>\n",
              "      <td>0.0007601878</td>\n",
              "      <td>0.0020402623</td>\n",
              "      <td>0.0018871565</td>\n",
              "      <td>0.000705584</td>\n",
              "      <td>0.008808682</td>\n",
              "      <td>...</td>\n",
              "      <td>0.069366686</td>\n",
              "      <td>0.00056777295</td>\n",
              "      <td>0.012059076</td>\n",
              "      <td>0.0006588565</td>\n",
              "      <td>0.011666293</td>\n",
              "      <td>0.0012164912</td>\n",
              "      <td>0.0008440862</td>\n",
              "      <td>0.0074777543</td>\n",
              "      <td>0.0015480419</td>\n",
              "      <td>0.008612767</td>\n",
              "      <td>0.00045374967</td>\n",
              "      <td>0.0018106726</td>\n",
              "      <td>0.00035195606</td>\n",
              "      <td>0.0008697528</td>\n",
              "      <td>0.0009701243</td>\n",
              "      <td>0.0038215923</td>\n",
              "      <td>0.00047921494</td>\n",
              "      <td>0.0009881199</td>\n",
              "      <td>0.00045256014</td>\n",
              "      <td>0.000805604</td>\n",
              "      <td>0.0003175499</td>\n",
              "      <td>0.006586907</td>\n",
              "      <td>0.008091173</td>\n",
              "      <td>0.0012172322</td>\n",
              "      <td>0.0010722125</td>\n",
              "      <td>0.020334585</td>\n",
              "      <td>0.0067119105</td>\n",
              "      <td>0.003358836</td>\n",
              "      <td>0.00042374036</td>\n",
              "      <td>0.0008544922</td>\n",
              "      <td>0.0021934435</td>\n",
              "      <td>0.0015286648</td>\n",
              "      <td>0.0027536189</td>\n",
              "      <td>0.0016453522</td>\n",
              "      <td>0.015009208</td>\n",
              "      <td>0.0028415422</td>\n",
              "      <td>0.0016463635</td>\n",
              "      <td>0.014135163</td>\n",
              "      <td>0.0024844485</td>\n",
              "      <td>0.0006926478</td>\n",
              "    </tr>\n",
              "    <tr>\n",
              "      <th>2</th>\n",
              "      <td>audio_files/GXAENJV.wav</td>\n",
              "      <td>0.0013141433</td>\n",
              "      <td>0.0025631506</td>\n",
              "      <td>0.0023728968</td>\n",
              "      <td>0.00875115</td>\n",
              "      <td>0.010774305</td>\n",
              "      <td>0.00021979354</td>\n",
              "      <td>0.0007478149</td>\n",
              "      <td>0.0059283646</td>\n",
              "      <td>0.0009341617</td>\n",
              "      <td>0.008819798</td>\n",
              "      <td>0.0022416594</td>\n",
              "      <td>0.0044098226</td>\n",
              "      <td>0.0021688226</td>\n",
              "      <td>0.00208779</td>\n",
              "      <td>0.012103737</td>\n",
              "      <td>0.0003563388</td>\n",
              "      <td>0.0017168736</td>\n",
              "      <td>0.06288243</td>\n",
              "      <td>0.004107527</td>\n",
              "      <td>0.0012325174</td>\n",
              "      <td>0.00044614755</td>\n",
              "      <td>0.0025157938</td>\n",
              "      <td>0.015248397</td>\n",
              "      <td>0.00396622</td>\n",
              "      <td>0.0009389222</td>\n",
              "      <td>0.031290185</td>\n",
              "      <td>0.0033811678</td>\n",
              "      <td>0.00068109063</td>\n",
              "      <td>0.0014016692</td>\n",
              "      <td>0.006412047</td>\n",
              "      <td>0.00054084003</td>\n",
              "      <td>0.0018825603</td>\n",
              "      <td>0.011162398</td>\n",
              "      <td>0.03527638</td>\n",
              "      <td>0.00043556117</td>\n",
              "      <td>0.0025700831</td>\n",
              "      <td>0.00071385544</td>\n",
              "      <td>0.0005960309</td>\n",
              "      <td>0.0011737419</td>\n",
              "      <td>...</td>\n",
              "      <td>0.006191916</td>\n",
              "      <td>0.002320929</td>\n",
              "      <td>0.0019490377</td>\n",
              "      <td>0.001731448</td>\n",
              "      <td>0.00075142545</td>\n",
              "      <td>0.002353503</td>\n",
              "      <td>0.0068118223</td>\n",
              "      <td>0.0014209995</td>\n",
              "      <td>0.02118783</td>\n",
              "      <td>0.0027540005</td>\n",
              "      <td>0.0008853626</td>\n",
              "      <td>0.0068635084</td>\n",
              "      <td>0.00015250572</td>\n",
              "      <td>0.005385551</td>\n",
              "      <td>0.003824358</td>\n",
              "      <td>0.000979022</td>\n",
              "      <td>0.00027336756</td>\n",
              "      <td>0.001986166</td>\n",
              "      <td>0.013705371</td>\n",
              "      <td>0.049471073</td>\n",
              "      <td>0.0022162527</td>\n",
              "      <td>0.0019223057</td>\n",
              "      <td>0.035395443</td>\n",
              "      <td>0.021841696</td>\n",
              "      <td>0.008339571</td>\n",
              "      <td>0.0047675967</td>\n",
              "      <td>0.0025223305</td>\n",
              "      <td>0.0016232941</td>\n",
              "      <td>0.0008263331</td>\n",
              "      <td>0.010325737</td>\n",
              "      <td>8.725532e-05</td>\n",
              "      <td>0.024292704</td>\n",
              "      <td>0.000398273</td>\n",
              "      <td>0.002229702</td>\n",
              "      <td>0.0048380317</td>\n",
              "      <td>0.00035575512</td>\n",
              "      <td>0.0133059975</td>\n",
              "      <td>0.00092182227</td>\n",
              "      <td>0.0039490177</td>\n",
              "      <td>0.001572818</td>\n",
              "    </tr>\n",
              "    <tr>\n",
              "      <th>3</th>\n",
              "      <td>audio_files/50XJOIJ.wav</td>\n",
              "      <td>0.0010712128</td>\n",
              "      <td>0.00046781937</td>\n",
              "      <td>0.0050304676</td>\n",
              "      <td>0.0018122987</td>\n",
              "      <td>0.005594457</td>\n",
              "      <td>0.0012455543</td>\n",
              "      <td>0.0038443862</td>\n",
              "      <td>0.0076679797</td>\n",
              "      <td>0.0010442368</td>\n",
              "      <td>0.0026783322</td>\n",
              "      <td>0.003698586</td>\n",
              "      <td>0.0020021326</td>\n",
              "      <td>0.0017928501</td>\n",
              "      <td>0.0017000479</td>\n",
              "      <td>0.0034644431</td>\n",
              "      <td>0.0009009043</td>\n",
              "      <td>0.0032530162</td>\n",
              "      <td>0.0017687607</td>\n",
              "      <td>0.023019515</td>\n",
              "      <td>0.006661872</td>\n",
              "      <td>0.0020809397</td>\n",
              "      <td>0.0049703033</td>\n",
              "      <td>0.00049682724</td>\n",
              "      <td>0.0027589947</td>\n",
              "      <td>0.0032032963</td>\n",
              "      <td>0.0011907729</td>\n",
              "      <td>0.004350825</td>\n",
              "      <td>0.0028766524</td>\n",
              "      <td>0.0033942398</td>\n",
              "      <td>0.015148359</td>\n",
              "      <td>0.0010829245</td>\n",
              "      <td>0.0142496135</td>\n",
              "      <td>0.0040860916</td>\n",
              "      <td>0.0025229778</td>\n",
              "      <td>0.0027094136</td>\n",
              "      <td>0.0016937681</td>\n",
              "      <td>0.0018021592</td>\n",
              "      <td>0.007774217</td>\n",
              "      <td>0.001304629</td>\n",
              "      <td>...</td>\n",
              "      <td>0.0034194812</td>\n",
              "      <td>0.0012229942</td>\n",
              "      <td>0.003394837</td>\n",
              "      <td>0.004122073</td>\n",
              "      <td>0.0007585836</td>\n",
              "      <td>0.0013920031</td>\n",
              "      <td>0.0013468193</td>\n",
              "      <td>0.0017591141</td>\n",
              "      <td>0.00039783173</td>\n",
              "      <td>0.006925378</td>\n",
              "      <td>0.0050177276</td>\n",
              "      <td>0.0006384473</td>\n",
              "      <td>0.0008948769</td>\n",
              "      <td>0.0011046025</td>\n",
              "      <td>0.0011325419</td>\n",
              "      <td>0.0012028133</td>\n",
              "      <td>0.26008996</td>\n",
              "      <td>0.0027102756</td>\n",
              "      <td>0.0004781118</td>\n",
              "      <td>0.0061162543</td>\n",
              "      <td>0.00071705383</td>\n",
              "      <td>0.0019412101</td>\n",
              "      <td>0.0019941484</td>\n",
              "      <td>0.0005010425</td>\n",
              "      <td>0.0015189964</td>\n",
              "      <td>0.0030937917</td>\n",
              "      <td>0.0020639237</td>\n",
              "      <td>0.0040647485</td>\n",
              "      <td>0.0009240294</td>\n",
              "      <td>0.0051354603</td>\n",
              "      <td>0.0041718637</td>\n",
              "      <td>0.0013596149</td>\n",
              "      <td>0.0010791727</td>\n",
              "      <td>0.0043151933</td>\n",
              "      <td>0.002904446</td>\n",
              "      <td>0.005062003</td>\n",
              "      <td>0.0019005545</td>\n",
              "      <td>0.0046402477</td>\n",
              "      <td>0.0019175855</td>\n",
              "      <td>0.0040442166</td>\n",
              "    </tr>\n",
              "    <tr>\n",
              "      <th>4</th>\n",
              "      <td>audio_files/PT9FZXC.wav</td>\n",
              "      <td>0.0018013632</td>\n",
              "      <td>0.0020286865</td>\n",
              "      <td>0.0036523528</td>\n",
              "      <td>0.0032891957</td>\n",
              "      <td>0.0116091175</td>\n",
              "      <td>0.0028761993</td>\n",
              "      <td>0.0005709484</td>\n",
              "      <td>0.00021958619</td>\n",
              "      <td>0.0001988135</td>\n",
              "      <td>0.011659327</td>\n",
              "      <td>0.00021456607</td>\n",
              "      <td>0.0105684865</td>\n",
              "      <td>0.00081259833</td>\n",
              "      <td>0.0016637045</td>\n",
              "      <td>0.0023597246</td>\n",
              "      <td>0.0010992809</td>\n",
              "      <td>0.0038486128</td>\n",
              "      <td>0.0058268444</td>\n",
              "      <td>0.0016797254</td>\n",
              "      <td>0.0019069293</td>\n",
              "      <td>0.0045720586</td>\n",
              "      <td>0.0018778733</td>\n",
              "      <td>0.0020688009</td>\n",
              "      <td>0.0011992481</td>\n",
              "      <td>0.0008735977</td>\n",
              "      <td>0.0048918636</td>\n",
              "      <td>0.004348369</td>\n",
              "      <td>0.019279122</td>\n",
              "      <td>0.087003835</td>\n",
              "      <td>0.006507967</td>\n",
              "      <td>0.0005854188</td>\n",
              "      <td>0.00034800766</td>\n",
              "      <td>0.009087464</td>\n",
              "      <td>0.0016822503</td>\n",
              "      <td>0.0031396684</td>\n",
              "      <td>0.0064108553</td>\n",
              "      <td>0.0072326744</td>\n",
              "      <td>0.011545966</td>\n",
              "      <td>0.0003122558</td>\n",
              "      <td>...</td>\n",
              "      <td>0.0010137694</td>\n",
              "      <td>0.0008586007</td>\n",
              "      <td>0.0015476221</td>\n",
              "      <td>0.0053357156</td>\n",
              "      <td>0.009843862</td>\n",
              "      <td>0.0035417622</td>\n",
              "      <td>0.0019500384</td>\n",
              "      <td>0.001959705</td>\n",
              "      <td>0.006273059</td>\n",
              "      <td>0.01254578</td>\n",
              "      <td>0.002023027</td>\n",
              "      <td>0.0007406353</td>\n",
              "      <td>0.0026293804</td>\n",
              "      <td>0.0045051565</td>\n",
              "      <td>0.0068674814</td>\n",
              "      <td>0.00011012404</td>\n",
              "      <td>0.004491251</td>\n",
              "      <td>0.005015731</td>\n",
              "      <td>0.0059788716</td>\n",
              "      <td>0.00051730574</td>\n",
              "      <td>0.0152151575</td>\n",
              "      <td>0.0029584735</td>\n",
              "      <td>0.0022175272</td>\n",
              "      <td>0.009895668</td>\n",
              "      <td>0.017768439</td>\n",
              "      <td>0.0018663361</td>\n",
              "      <td>0.036114715</td>\n",
              "      <td>0.002204789</td>\n",
              "      <td>0.00308134</td>\n",
              "      <td>0.0028698016</td>\n",
              "      <td>0.019881602</td>\n",
              "      <td>0.042717032</td>\n",
              "      <td>0.0024939142</td>\n",
              "      <td>0.0035547207</td>\n",
              "      <td>0.0005331227</td>\n",
              "      <td>0.0042677713</td>\n",
              "      <td>0.0043287077</td>\n",
              "      <td>0.00035938743</td>\n",
              "      <td>0.00052073</td>\n",
              "      <td>0.0024400735</td>\n",
              "    </tr>\n",
              "  </tbody>\n",
              "</table>\n",
              "<p>5 rows × 194 columns</p>\n",
              "</div>"
            ],
            "text/plain": [
              "                        fn maize streak virus  ...     ebiwojjolo     obutungulu\n",
              "0  audio_files/3JXQ47B.wav       0.0039398954  ...  0.00035514738  0.00013489995\n",
              "1  audio_files/LZL66TN.wav       0.0026722667  ...   0.0024844485   0.0006926478\n",
              "2  audio_files/GXAENJV.wav       0.0013141433  ...   0.0039490177    0.001572818\n",
              "3  audio_files/50XJOIJ.wav       0.0010712128  ...   0.0019175855   0.0040442166\n",
              "4  audio_files/PT9FZXC.wav       0.0018013632  ...     0.00052073   0.0024400735\n",
              "\n",
              "[5 rows x 194 columns]"
            ]
          },
          "metadata": {
            "tags": []
          },
          "execution_count": 21
        }
      ]
    },
    {
      "cell_type": "code",
      "metadata": {
        "id": "xVQq84DPNpQO",
        "colab_type": "code",
        "colab": {}
      },
      "source": [
        "ss.to_csv('Submission1.csv', index=False)"
      ],
      "execution_count": null,
      "outputs": []
    },
    {
      "cell_type": "markdown",
      "metadata": {
        "id": "tZniD6ThCw6a",
        "colab_type": "text"
      },
      "source": [
        "# Making it better\n",
        "\n",
        "- Split sensibly - rather than a random split, consider splitting such that your validation set samples from each class.\n",
        "- Rather than duplicating the spectrogram across the three channels, consider ways to make it more useful as a 3 channel image or just use a single channel network.\n",
        "- Is using a network pre-trained on ImageNet really the best way to go?\n",
        "- Better architectures, more training, test time augmentation can all give a score boost, but don't rely on these alone to get you to the top...\n",
        "- This dataset is small. What if you used the network as a feature extractor and then used another method for classification instead?\n",
        "- Look into what other folks doing audio classification have been doing - there are some really cool papers from the last year or two begging to be re-implemented."
      ]
    },
    {
      "cell_type": "code",
      "metadata": {
        "id": "pM1d_33lW9Bq",
        "colab_type": "code",
        "colab": {}
      },
      "source": [
        ""
      ],
      "execution_count": null,
      "outputs": []
    }
  ]
}